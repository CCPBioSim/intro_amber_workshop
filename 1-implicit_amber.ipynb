{
 "cells": [
  {
   "cell_type": "markdown",
   "metadata": {},
   "source": [
    "This workshop will work in a terminal. The first thing to do is to open a new terminal: from the jupyter home page click the new button on the top right and select terminal. You might want to open the terminal in a new window (right click on terminal and select open in new window). Don't close this notebook (until you have finished the tutorial)!\n",
    "\n",
    "Lines in this notebook that begin with $ are the lines that you type into the terminal command line. Sample input files can be found in data/implicit and data/solvated. If you want to add a new cell (perhaps at the end), select \"Insert\" -> \"Insert Cell Below\" or \"Insert Cell Above\" from the menus above."
   ]
  },
  {
   "cell_type": "markdown",
   "metadata": {},
   "source": [
    "You will want to keep your workspace tidy, so we will organize files into directories. Start by making a directory for your current work\n",
    "\n",
    "$ mkdir modelling\n",
    "\n",
    "Enter that directory\n",
    "\n",
    "$ cd modelling\n",
    "\n",
    "You may want to make directories for gbsa (implicit) and solvated simulations (notebook 2) for later on.\n",
    "\n",
    "$ mkdir gbsa\n",
    "\n",
    "$ mkdir solvated"
   ]
  },
  {
   "cell_type": "markdown",
   "metadata": {},
   "source": [
    "# Using tLeap\n",
    "\n",
    "The tLeap module connects the protein structure with the AMBER forcefield.\n",
    "\n",
    "AMBER contains “residue templates” for standard biological units (eg amino acids) that the program uses to assign forcefield parameters from a pdb file. It understands chemistry!\n",
    "\n",
    "tLeap produces files called “parm” (or top) and “crd”.\n",
    "“parm” contains the parameters and connectivities\n",
    "“crd” contains the starting coordinates."
   ]
  },
  {
   "cell_type": "markdown",
   "metadata": {},
   "source": [
    "* Choose your forcefield\n",
    "\n",
    "There are different forcefields even within AMBER!\n",
    "\n",
    "1 - parm14SB (recommended for proteins)\n",
    "source leaprc.ff14SB\n",
    "\n",
    "2 - parmbsc1 (recommended for DNA)\n",
    "\n",
    "3 - Gaff (generalised AMBER forcefield) – can simulate anything with this – caution needed!!\n",
    "source leaprc.gaff\n"
   ]
  },
  {
   "cell_type": "markdown",
   "metadata": {},
   "source": [
    "* Change to the directory where you want your implicit solvent simulations\n",
    "\n",
    "$ cd gbsa"
   ]
  },
  {
   "cell_type": "markdown",
   "metadata": {},
   "source": [
    "* Start the tLeap module:\n",
    "\n",
    "$ tleap"
   ]
  },
  {
   "cell_type": "markdown",
   "metadata": {},
   "source": [
    "* Load the forcefield.\n",
    "\n",
    "To use the 14SB forcefield:\n",
    "\n",
    "$ source leaprc.protein.ff14SB\n",
    "\n",
    "The name of the forcefield file can depend on the version of AmberTools. The command above will work for Amber18, but for older versions of Amber you might need leaprc.ff14SB."
   ]
  },
  {
   "cell_type": "markdown",
   "metadata": {},
   "source": [
    "The AMBER manual and additional tutorials can be found at http://ambermd.org"
   ]
  },
  {
   "cell_type": "markdown",
   "metadata": {},
   "source": [
    "# Building peptides in tLeap\n",
    "\n",
    "To see which molecules you have available, type:\n",
    "\n",
    "$ list\n",
    "\n",
    "Think of 5 amino acids ~ eg GLY, ALA, TYR, PRO and ASP\n",
    "\n",
    "Now type:\n",
    "\n",
    "$ peptide = sequence {NGLY ALA TYR PRO CASP}\n",
    "\n",
    "You need NXXX and CXXX at the ends of the peptide to correctly chemically cap the ends. You can use any 5 amino acids (the ones listed here are just an example)."
   ]
  },
  {
   "cell_type": "markdown",
   "metadata": {},
   "source": [
    "# Save your molecule:\n",
    "\n",
    "$ savepdb peptide YOUR_FILE_NAME.pdb\n",
    "\n",
    "$ saveamberparm peptide YOUR_FILE_NAME.parm7 YOUR_FILE_NAME.crd\n",
    "\n",
    "and exit tleap to return to the terminal shell:\n",
    "\n",
    "$ quit"
   ]
  },
  {
   "cell_type": "markdown",
   "metadata": {},
   "source": [
    "# Implicit solvent simulation of your peptide\n",
    "\n",
    "To run Sander you need:\n",
    "1. The parm (topology) and crd (coordinate) files\n",
    "2. Sander input files (min1.in, min2.in, md1.in, md2.in, md3.in)\n",
    "\n",
    "Take a look at the input files (implicit-\\*.in). Try and get a gist of what the input file is doing. \n",
    "\n",
    "What is the difference between implicit-min1.in and implicit-min2.in? How much dynamics is involved in each step of the equilibration?"
   ]
  },
  {
   "cell_type": "markdown",
   "metadata": {},
   "source": [
    "# Using sander\n",
    "\n",
    "The molecular dynamics is run by the sander module. The sander executable is found in $AMBERHOME/bin. You can read the manual to find the details of all the options for sander. Some of the important ones are:\n",
    "\n",
    "    -O or -A : Overwrite or Append output files if they already exist\n",
    "    \n",
    "    -i FILE_NAME.in (input) : control data for the run\n",
    "    \n",
    "    -o FILE_NAME.out (output) : user readable information\n",
    "    \n",
    "    -p FILE_NAME.parm7 (input) : molecular topology, force field, atom and residue names, periodic box type\n",
    "    \n",
    "    -c FILE_NAME.crd (input) : initial coordinates and periodic box size (may include velocities)\n",
    "    \n",
    "    -r FILE_NAME.rst (output) : final coordinates, velocities, and box dimentions (for restarting run) \n",
    "    \n",
    "* Example (you will have to use your own filenames)\n",
    "\n",
    "$ sander -O -i min1.in -o min1.out -inf min1.inf -c pep.crd -r pep.rst -p pep.parm7 -ref pep.crd -x pepmin1.nc"
   ]
  },
  {
   "cell_type": "markdown",
   "metadata": {},
   "source": [
    "# Equilibration\n",
    "\n",
    "To equilibrate the system, we first relax by running an energy minimisation (min1.in, min2.in). This helps to remove any bad contacts (slightly misplaced atoms) in the initial structure.\n",
    "\n",
    "We then heat the system up in the presence of restraints on the solute (md1.in). Heating the system is followed by MD at the desired temperature (md2.in) and then removing the restraints (md3.in). This stepwise equilibration procedure allows the system to gradually relax without changing too much at any one time (which could cause simulations to become unstable and crash the MD program).\n",
    "\n",
    "This equilibration needs to be particularly gentle for DNA simulations to ensure that the solvent and counterions screen the negatively charged backbone."
   ]
  },
  {
   "cell_type": "markdown",
   "metadata": {},
   "source": [
    "# Visualising the results\n",
    "\n",
    "There are several programs available for visualising MD trajectories (VMD and Chimera are popular). In Jupyter notebooks, we can use NGLview (with MDtraj to import the trajectory)."
   ]
  },
  {
   "cell_type": "code",
   "execution_count": null,
   "metadata": {},
   "outputs": [],
   "source": [
    "import mdtraj as mdt\n",
    "import nglview as nv"
   ]
  },
  {
   "cell_type": "code",
   "execution_count": null,
   "metadata": {},
   "outputs": [],
   "source": [
    "# select your files\n",
    "top_file = 'YOUR_FILENAME.parm7'\n",
    "traj_file = 'YOUR_FILENAME.nc'"
   ]
  },
  {
   "cell_type": "code",
   "execution_count": null,
   "metadata": {},
   "outputs": [],
   "source": [
    "# load trajectory with MDtraj\n",
    "traj = mdt.load(traj_file, top=top_file)"
   ]
  },
  {
   "cell_type": "code",
   "execution_count": null,
   "metadata": {},
   "outputs": [],
   "source": [
    "#view with NGLview\n",
    "view = nv.show_mdtraj(traj)\n",
    "\n",
    "# Clear all representations to try new ones\n",
    "view.clear_representations()\n",
    "\n",
    "# Show licorice style representation\n",
    "view.add_licorice()\n",
    "view"
   ]
  },
  {
   "cell_type": "markdown",
   "metadata": {},
   "source": [
    "# Repeat or replicate simulations\n",
    "\n",
    "One way to perform an independent “repeat” of a simulation is to reassign the velocities at a chosen point in the trajectory. \n",
    "\n",
    "The ntx and irest flags in the .in file change (ntx=1, irest=0).\n",
    "\n",
    "Make a new directory.\n",
    "\n",
    "Running on from your restart file from md2 (eg pep.md2), run an independent repeat of your previous simulation by asking md3.in to reassign a new set of velocities. Call this trajectory something different.\n",
    "\n",
    "Compare the two trajectories, and convince yourself that they are different."
   ]
  }
 ],
 "metadata": {
  "kernelspec": {
   "display_name": "Python 2",
   "language": "python",
   "name": "python2"
  },
  "language_info": {
   "codemirror_mode": {
    "name": "ipython",
    "version": 2
   },
   "file_extension": ".py",
   "mimetype": "text/x-python",
   "name": "python",
   "nbconvert_exporter": "python",
   "pygments_lexer": "ipython2",
   "version": "2.7.12"
  }
 },
 "nbformat": 4,
 "nbformat_minor": 2
}
