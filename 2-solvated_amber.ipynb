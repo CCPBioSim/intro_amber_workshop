{
 "cells": [
  {
   "cell_type": "markdown",
   "metadata": {},
   "source": [
    "This workshop will work in a terminal. The first thing to do is to open a new terminal: from the jupyter home page click the new button on the top right and select terminal. You might want to open the terminal in a new window (right click on terminal and select open in new window). Don't close this notebook (until you have finished the tutorial)!\n",
    "\n",
    "Lines in this notebook that begin with $ are the lines that you type into the terminal command line. Sample input files can be found in data/implicit and data/solvated."
   ]
  },
  {
   "cell_type": "markdown",
   "metadata": {},
   "source": [
    "# Using tleap\n",
    "\n",
    "* Change into the directory for explicitly solvated simulations\n",
    "\n",
    "$ cd /path/name/"
   ]
  },
  {
   "cell_type": "markdown",
   "metadata": {},
   "source": [
    "Start tleap and load the protein force field as you did in the implicit solvent exercise (notebook 1). Then you can load the peptide.pdb file from the implicit solvent exercise.\n",
    "\n",
    "$ peptide = loadPdb YOUR_FILENAME.pdb"
   ]
  },
  {
   "cell_type": "markdown",
   "metadata": {},
   "source": [
    "The AMBER manual and additional tutorials can be found at http://ambermd.org"
   ]
  },
  {
   "cell_type": "markdown",
   "metadata": {},
   "source": [
    "# Add solvent\n",
    "\n",
    "1 - choose a water model, for example TIP3P or SPC-E, and load this model. \n",
    "\n",
    "$ source leaprc.water.NAME_OF_WATER\n",
    "\n",
    "2 - choose a box shape, either rectangular or truncated octahedron\n",
    "\n",
    "$ solvateBox peptide NAME_OF_WATER SIZE_OF_BOX\n",
    "\n",
    "$ solvateOct peptide NAME_OF_WATER SIZE_OF_BOX"
   ]
  },
  {
   "cell_type": "markdown",
   "metadata": {},
   "source": [
    "If you see an error from tleap about an argument being of type string when it should be of type unit, try\n",
    "\n",
    "$ list\n",
    "\n",
    "to see what units are available. You might have mistyped a name, or you might need to load a force field or molecule."
   ]
  },
  {
   "cell_type": "markdown",
   "metadata": {},
   "source": [
    "# Neutralise your system\n",
    "\n",
    "You need to know the charge on the peptide (very important to note if it is positive or negative)\n",
    "\n",
    "$ charge peptide\n",
    "\n",
    "Then add counterions (e.g. Na+, K+ or Cl-)\n",
    "\n",
    "$ addions peptide ION_NAME 0\n",
    "\n",
    "The 0 at the end tells tleap to add the correct number of ions to neutralise the whole system (you can also specify the exact number of ions if you want)."
   ]
  },
  {
   "cell_type": "markdown",
   "metadata": {},
   "source": [
    "# Save your molecule:\n",
    "\n",
    "$ savepdb peptide YOUR_FILE_NAME.pdb\n",
    "\n",
    "$ saveamberparm peptide YOUR_FILE_NAME.parm7 YOUR_FILE_NAME.crd\n",
    "\n",
    "and exit tleap to return to the terminal shell:\n",
    "\n",
    "$ quit"
   ]
  },
  {
   "cell_type": "markdown",
   "metadata": {},
   "source": [
    "# Input files\n",
    "\n",
    "There are some differences in the \\*.in files for implicit and explicit solvents. For implicit solvents igb = 1, but for explicit solvents igb = 0 which is the default value (if you don't specify a value for igb in your input Amber will set it to 0). gbsa and saltcon are parameters that are only used for the implicit solvent simulations."
   ]
  },
  {
   "cell_type": "markdown",
   "metadata": {},
   "source": [
    "# Using sander\n",
    "\n",
    "The molecular dynamics is run by the sander module. The sander executable is found in $AMBERHOME/bin. You can read the manual to find the details of all the options for sander. Some of the important ones are:\n",
    "\n",
    "    -O or -A : Overwrite or Append output files if they already exist\n",
    "    \n",
    "    -i FILE_NAME.in (input) : control data for the run\n",
    "    \n",
    "    -o FILE_NAME.out (output) : user readable information\n",
    "    \n",
    "    -p FILE_NAME.parm7 (input) : molecular topology, force field, atom and residue names, periodic box type\n",
    "    \n",
    "    -c FILE_NAME.crd (input) : initial coordinates and periodic box size (may include velocities)\n",
    "    \n",
    "    -r FILE_NAME.ncrst (output) : final coordinates, velocities, and box dimentions (for restarting run) \n",
    "    \n",
    "* Example (you will have to use your own filenames) \n",
    "\n",
    "$sander -O -i min1.in -o min1.out -inf min1.inf -c pep.crd -r pep.ncrst -p pep.top -ref pep.crd -x pepmin1.x -e pepmin1.ene"
   ]
  },
  {
   "cell_type": "markdown",
   "metadata": {},
   "source": [
    "# Equilibration and running simulations\n",
    "\n",
    "To equilibrate the system, we first relax by running an energy minimisation (min1.in, min2.in). This helps to remove any bad contacts (slightly misplaced atoms) in the initial structure.\n",
    "\n",
    "We then heat the system up in the presence of restraints on the solute (md1.in). Heating the system is followed by MD at the desired temperature (md2.in) and then removing the restraints (md3.in). This stepwise equilibration procedure allows the system to gradually relax without changing too much at any one time (which could cause simulations to become unstable and crash the MD program).\n",
    "\n",
    "This equilibration needs to be particularly gentle for DNA simulations to ensure that the solvent and counterions screen the negatively charged backbone."
   ]
  },
  {
   "cell_type": "markdown",
   "metadata": {},
   "source": [
    "# Visualising the results\n",
    "\n",
    "You can use NGLview to visualise the results (as you did in notebook 1). What do you notice compared to the implicitly solvated runs?\n",
    "\n",
    "You can find the NGLview documentation at http://nglviewer.org/nglview/latest/index.html."
   ]
  },
  {
   "cell_type": "code",
   "execution_count": null,
   "metadata": {},
   "outputs": [],
   "source": [
    "import mdtraj as mdt\n",
    "import nglview as nv"
   ]
  },
  {
   "cell_type": "code",
   "execution_count": null,
   "metadata": {},
   "outputs": [],
   "source": [
    "# select your files"
   ]
  },
  {
   "cell_type": "code",
   "execution_count": null,
   "metadata": {},
   "outputs": [],
   "source": [
    "# load trajectory with MDtraj"
   ]
  },
  {
   "cell_type": "code",
   "execution_count": null,
   "metadata": {},
   "outputs": [],
   "source": [
    "#view with NGLview"
   ]
  },
  {
   "cell_type": "markdown",
   "metadata": {},
   "source": [
    "# Repeat or replicate simulations\n",
    "\n",
    "If you want you can run a repeat simulation (as in notebook 1)."
   ]
  }
 ],
 "metadata": {
  "kernelspec": {
   "display_name": "Python 2",
   "language": "python",
   "name": "python2"
  },
  "language_info": {
   "codemirror_mode": {
    "name": "ipython",
    "version": 2
   },
   "file_extension": ".py",
   "mimetype": "text/x-python",
   "name": "python",
   "nbconvert_exporter": "python",
   "pygments_lexer": "ipython2",
   "version": "2.7.12"
  }
 },
 "nbformat": 4,
 "nbformat_minor": 2
}
